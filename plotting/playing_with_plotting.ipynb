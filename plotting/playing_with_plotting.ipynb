{
 "cells": [
  {
   "cell_type": "markdown",
   "metadata": {},
   "source": [
    "# Playing with Plotting  \n",
    "\n",
    "What follows includes some exercises/challenges related to plotting and displaying data in Python. \n",
    "\n",
    "The goal is to provide an opportunity to play with different types of data and explore ways of displaying it. You don't need to do every single exercise, and you don't need to do them all today. Hopefully this can serve as a useful reference for future work. \n",
    "\n",
    "There are multiple ways to do each of these, and everyone has their favorite. There are no 'right' answers."
   ]
  },
  {
   "cell_type": "markdown",
   "metadata": {},
   "source": [
    "The exercies that follow relate to:  \n",
    "- [1D spectra](#1dspectra)\n",
    "- [Scatter plots](#scatter)\n",
    "- [Images](#image)\n",
    "- [Random Tricks](#tricks)\n",
    "\n",
    "---"
   ]
  },
  {
   "cell_type": "markdown",
   "metadata": {},
   "source": [
    "<a id='1dspectra'></a>"
   ]
  },
  {
   "cell_type": "markdown",
   "metadata": {},
   "source": [
    "## 1D spectra\n",
    "\n",
    "In this directory is a 1d spectrum from SDSS of a z~0.076 star-forming galaxy.  \n",
    "The same spectrum is available in two file formats: `spec.dat` and `spec.fits`  \n",
    "\n",
    "The wavelength is in units of $A$ and the flux and flux error are in units of $10^{-17}$ erg/s/cm$^2$/$A$"
   ]
  },
  {
   "cell_type": "markdown",
   "metadata": {},
   "source": [
    "**Read in the spectrum**  \n",
    "Options include `numpy.genfromtxt`, `astropy.table.Table`, `astropy.io.fits`"
   ]
  },
  {
   "cell_type": "code",
   "execution_count": null,
   "metadata": {},
   "outputs": [],
   "source": []
  },
  {
   "cell_type": "markdown",
   "metadata": {},
   "source": [
    "**Plot the spectrum including errors**"
   ]
  },
  {
   "cell_type": "code",
   "execution_count": null,
   "metadata": {},
   "outputs": [],
   "source": []
  },
  {
   "cell_type": "markdown",
   "metadata": {},
   "source": [
    "**Measure emission line fluxes**  \n",
    "\n",
    "In this spectrum, there is an H$\\alpha$ emission line at 6563 $A$ $\\times$ $(1+z)$. What is the flux of this line?\n",
    "\n",
    "Consider trying:\n",
    "- directly integrating the flux of the line (you might explore one of the modules in `scipy.integrate`)\n",
    "- fitting a Gaussian to the line (maybe `scipy.optimize.curve_fit`)\n",
    "\n",
    "and comparing the fluxes you get with either method"
   ]
  },
  {
   "cell_type": "code",
   "execution_count": null,
   "metadata": {},
   "outputs": [],
   "source": []
  },
  {
   "cell_type": "markdown",
   "metadata": {},
   "source": [
    "**Bonus: try fitting other profiles to the line, such as a Lorentzian or Voight profile**"
   ]
  },
  {
   "cell_type": "code",
   "execution_count": null,
   "metadata": {},
   "outputs": [],
   "source": []
  },
  {
   "cell_type": "markdown",
   "metadata": {},
   "source": [
    "---\n",
    "<a id='scatter'></a>"
   ]
  },
  {
   "cell_type": "markdown",
   "metadata": {},
   "source": [
    "## Scatter plots\n",
    "\n",
    "In this directory there is another file `galSpecSubset-dr8.fits` containing some measurements from spectra for a subset of the [MPA-JHU value-added SDSS catalog](https://www.sdss.org/dr12/spectro/galaxy_mpajhu/). These measurements were released for SDSS data release 8 and are named after the Max Planck Institute for Astrophysics and the Johns Hopkins University where the measurement technique was developed (see [Brinchmann et al. 2004](http://adsabs.harvard.edu/abs/2004MNRAS.351.1151B), [Kauffmann et al. 2003](http://adsabs.harvard.edu/abs/2003MNRAS.341...33K), and [Tremonti et al. 2004](http://adsabs.harvard.edu/abs/2004ApJ...613..898T)).\n",
    "\n",
    "The subset of data here includes\n",
    "- `logmass`: log$_{10}$(mass [$M_{\\odot}$]),\n",
    "- `logsfr`: log$_{10}$(star formation rate [$M_{\\odot}$/yr]), and \n",
    "- `haflux`: H$\\alpha$ line flux in units of $10^{-17}$ erg/s/cm$^2$/$A$ \n",
    "\n",
    "for ~0.3% of the full catalog. "
   ]
  },
  {
   "cell_type": "markdown",
   "metadata": {},
   "source": [
    "**Create a scatter plot showing `logmass` vs `logsfr`. Color-code your points by `haflux`**"
   ]
  },
  {
   "cell_type": "code",
   "execution_count": null,
   "metadata": {},
   "outputs": [],
   "source": []
  },
  {
   "cell_type": "markdown",
   "metadata": {},
   "source": [
    "**Use a logarithmic color scaling (and colorbar) for the `haflux` values**"
   ]
  },
  {
   "cell_type": "code",
   "execution_count": null,
   "metadata": {},
   "outputs": [],
   "source": []
  },
  {
   "cell_type": "markdown",
   "metadata": {},
   "source": [
    "**Plot a histogram of `haflux` values**"
   ]
  },
  {
   "cell_type": "code",
   "execution_count": null,
   "metadata": {},
   "outputs": [],
   "source": []
  },
  {
   "cell_type": "markdown",
   "metadata": {},
   "source": [
    "**Plot `logmass` vs `logsfr` as a 2D histogram**"
   ]
  },
  {
   "cell_type": "code",
   "execution_count": null,
   "metadata": {},
   "outputs": [],
   "source": []
  },
  {
   "cell_type": "markdown",
   "metadata": {},
   "source": [
    "**Plot `logmass` vs `logsfr` vs `haflux` as a 3D scatter plot**\n",
    "\n",
    "_Hint:_   \n",
    "`from mpl_toolkits.mplot3d import Axes3D`  \n",
    "`fig = plt.figure()`  \n",
    "`ax = fig.add_subplot(111, projection='3d')`"
   ]
  },
  {
   "cell_type": "code",
   "execution_count": null,
   "metadata": {},
   "outputs": [],
   "source": []
  },
  {
   "cell_type": "markdown",
   "metadata": {},
   "source": [
    "**Find all points that lie in a specific region**\n",
    "\n",
    "There is a table of random x and y values called `random_scatter.fits`.\n",
    "\n",
    "- How many/which points are within a circle centered at (0,0.4) with a radius of 0.2?\n",
    "- How many/which points are within a square centered at the same point with side length 0.2?\n",
    "- How many/which points are within the polygon defined by the corners: [-1.3,0.8], [0.7,0.6], [0.4,0.3], [-1,0.5]? "
   ]
  },
  {
   "cell_type": "markdown",
   "metadata": {},
   "source": [
    "---\n",
    "<a id='image'></a>"
   ]
  },
  {
   "cell_type": "markdown",
   "metadata": {},
   "source": [
    "## 2D Images\n",
    "\n",
    "There are 5 images in fits format: `image1.fits`, etc. Each one contains an image of a source with some cool structure. The full extent of the structure will not be visible until you find an optimal stretch and scaling for displaying the image. \n",
    "\n",
    "Pick an image at random or play with all of them! `image5.fits` is a particular challenge because of nearby bright sources/artifacts in the image. "
   ]
  },
  {
   "cell_type": "markdown",
   "metadata": {},
   "source": [
    "**Display the image**\n",
    "\n",
    "If you're using `matplotlib`:  \n",
    "`plt.imshow(...)`  \n",
    "And remember that you need the keyword `origin='lower'` to place the [0,0] index of the array in the lower left corner like our brains usually want."
   ]
  },
  {
   "cell_type": "code",
   "execution_count": null,
   "metadata": {},
   "outputs": [],
   "source": []
  },
  {
   "cell_type": "markdown",
   "metadata": {},
   "source": [
    "**Change color maps, play with changing the vmin,vmax scaling**"
   ]
  },
  {
   "cell_type": "code",
   "execution_count": null,
   "metadata": {},
   "outputs": [],
   "source": []
  },
  {
   "cell_type": "markdown",
   "metadata": {},
   "source": [
    "**`astropy.visualization` includes some very useful functions for optimal stretching/scaling of image data**"
   ]
  },
  {
   "cell_type": "code",
   "execution_count": null,
   "metadata": {},
   "outputs": [],
   "source": []
  },
  {
   "cell_type": "markdown",
   "metadata": {},
   "source": [
    "**Bonus: display a ds9 region on top of the image**\n",
    "\n",
    "There's a ds9 regions file (`ds9.reg`) with two regions: a green square and a blue circle.    \n",
    "Use `pyregion` to display both regions on top of the image."
   ]
  },
  {
   "cell_type": "code",
   "execution_count": null,
   "metadata": {},
   "outputs": [],
   "source": []
  },
  {
   "cell_type": "markdown",
   "metadata": {},
   "source": [
    "**Bonus: display the image with WCS coordinates/axes**\n",
    "\n",
    "_Hint:_  \n",
    "`astropy.wcs.WCS` will get all the WCS information (RA,Dec, etc.) from the header. You can create a subplot with a `wcs` projection (similar to the `3d` projection above, but with the WCS defined in the image header)\n"
   ]
  },
  {
   "cell_type": "code",
   "execution_count": null,
   "metadata": {},
   "outputs": [],
   "source": []
  },
  {
   "cell_type": "markdown",
   "metadata": {},
   "source": [
    "---\n",
    "<a id='tricks'></a>"
   ]
  },
  {
   "cell_type": "markdown",
   "metadata": {},
   "source": [
    "## Random Tricks\n",
    "\n",
    "An assortment of random tricks"
   ]
  },
  {
   "cell_type": "markdown",
   "metadata": {},
   "source": [
    "**Defining a figure**  \n",
    "Defining an instance of a Figure object gives you more control over plotting options than making all plotting commands with `plt`. \n",
    "\n",
    "You can define a figure:  \n",
    "`fig = plt.figure()`  \n",
    "Then add an axis:  \n",
    "`ax = fig.add_subplot(111)`  \n",
    "And to plot to the axis:  \n",
    "`ax.plot(...)`\n",
    "\n",
    "You can create a figure and grid of axes all in one go:  \n",
    "`fig,(ax1,ax2) = plt.subplots(1, 2)`\n",
    "\n",
    "Setting `tight_layout` will make pyplot optimize the placement of all your axes automatically:  \n",
    "`fig,(ax1,ax2) = plt.subplots(1, 2, tight_layout=True)`  \n",
    "or:  \n",
    "`plt.tight_layout()`\n",
    "\n",
    "Defining a figure lets you save it to disk:  \n",
    "`fig.savefig('figure.png')`  \n",
    "`fig.savefig('figure.pdf')`"
   ]
  },
  {
   "cell_type": "markdown",
   "metadata": {},
   "source": [
    "**Iterate through a colormap**  \n",
    "If you are plotting several lines in a for loop, you can iterate through a colormap so each line has a different color without explicitly having to define each one: \n",
    "\n",
    "```\n",
    "from matplotlib.pyplot import cm  \n",
    "import numpy as np  \n",
    "\n",
    "# let nlines be the number of lines you have to plot  \n",
    "colors = iter(cm.magma(np.linspace(0,1,nlines)))  \n",
    "for thing in things_to_plot:  \n",
    "    c = next(colors)  \n",
    "    plt.plot(x, y, c=c)\n",
    "```"
   ]
  },
  {
   "cell_type": "markdown",
   "metadata": {},
   "source": [
    "**Iterate through plotting symbols**  \n",
    "In a similar way you can iterate through markers when making a scatter plot (or a line plot with markers):\n",
    "\n",
    "```\n",
    "import itertools\n",
    "marker = itertools.cycle(('s', '+', '.', 'o', '*')) \n",
    "for thing in things_to_plot:\n",
    "    plt.scatter(x, y, marker=next(marker))\n",
    "```"
   ]
  },
  {
   "cell_type": "markdown",
   "metadata": {},
   "source": [
    "**Create your own plot symbol**  \n",
    "For example, to create an upper limit arrow:  \n",
    "\n",
    "```\n",
    "import numpy as np\n",
    "from matplotlib.path import Path\n",
    "\n",
    "\n",
    "def upper_limit():\n",
    "    \"\"\"Create a marker for an upper limit - empty box with arrow\"\"\"\n",
    "    verts = [(0,2),(2,2),(2,-2),(-2,-2),(-2,2),(0,2),\n",
    "             (0,7.5),(2.5,5.5),(0,7.5),(-2.5,5.5),(0,7.5),(0,2)]\n",
    "    codes = [Path.MOVETO, Path.LINETO, Path.LINETO, Path.LINETO, Path.LINETO,\n",
    "             Path.LINETO, Path.LINETO, Path.LINETO, Path.LINETO, Path.LINETO,\n",
    "             Path.LINETO, Path.LINETO]\n",
    "    path = Path(verts, codes)\n",
    "    return path\n",
    "    \n",
    "plt.scatter(x, y, marker=upper_limit(), s=800)\n",
    "plt.plot(x, y, marker=upper_limit(), ms=30)\n",
    "```\n",
    "(You have to scale up the size of the symbol)"
   ]
  },
  {
   "cell_type": "markdown",
   "metadata": {},
   "source": [
    "**Use an image as a plot symbol**  \n",
    "Can we make a scatter plot of JWST mirrors? Why, yes we can!  \n",
    "\n",
    "```\n",
    "import matplotlib.pyplot as plt\n",
    "from matplotlib.offsetbox import OffsetImage, AnnotationBbox\n",
    "\n",
    "xx = [0,1,2,3,4]\n",
    "yy = [0,1,2,3,4]\n",
    "\n",
    "fig, ax = plt.subplots()\n",
    "ax.plot(xx, yy)\n",
    "# read in the image\n",
    "image = plt.imread('mirror.png')\n",
    "# we have to scale down the image size (or use a different coordiate system for display)\n",
    "im = OffsetImage(image, zoom=0.05)\n",
    "for x,y in zip(xx,yy):\n",
    "    ab = AnnotationBbox(im, (x, y), frameon=False)\n",
    "    ax.add_artist(ab)\n",
    "```"
   ]
  },
  {
   "cell_type": "code",
   "execution_count": null,
   "metadata": {},
   "outputs": [],
   "source": []
  }
 ],
 "metadata": {
  "kernelspec": {
   "display_name": "Python 3",
   "language": "python",
   "name": "python3"
  },
  "language_info": {
   "codemirror_mode": {
    "name": "ipython",
    "version": 3
   },
   "file_extension": ".py",
   "mimetype": "text/x-python",
   "name": "python",
   "nbconvert_exporter": "python",
   "pygments_lexer": "ipython3",
   "version": "3.5.6"
  }
 },
 "nbformat": 4,
 "nbformat_minor": 2
}
